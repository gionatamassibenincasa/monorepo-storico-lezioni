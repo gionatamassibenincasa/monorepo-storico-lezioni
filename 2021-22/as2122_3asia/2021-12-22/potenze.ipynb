{
 "cells": [
  {
   "cell_type": "markdown",
   "metadata": {},
   "source": [
    "# Elevamento a potenza\n",
    "\n",
    "Consideriamo $b^e$ come un'operazione in cui $b$ è un numero reale qualsiasi ed $e$ è un numero naturale.\n",
    "\n",
    "L'operazione può essere definita come \n",
    "\n",
    "$\\begin{matrix} b^e = & \\underbrace{b \\cdot b \\cdot b \\cdot \\cdots \\cdot b} & \\\\ & {e\\text{ volte}}\\end{matrix}$\n",
    "\n",
    "In C++ il prototipo è:\n",
    "\n",
    "```c++\n",
    "double potenza(double b, unsigned int e);\n",
    "```\n",
    "\n",
    "## Processo iterativo lineare"
   ]
  },
  {
   "cell_type": "code",
   "execution_count": 1,
   "metadata": {},
   "outputs": [],
   "source": [
    "double potenza_il(double b, unsigned int e) {\n",
    "    double accumulatore = 1;\n",
    "    for (int contatore = 0; contatore < e; contatore++) {\n",
    "        accumulatore *= b;\n",
    "    }\n",
    "    return accumulatore;\n",
    "}"
   ]
  },
  {
   "cell_type": "code",
   "execution_count": 2,
   "metadata": {},
   "outputs": [],
   "source": [
    "#include <iostream>\n",
    "using namespace std;"
   ]
  },
  {
   "cell_type": "code",
   "execution_count": 3,
   "metadata": {},
   "outputs": [
    {
     "name": "stdout",
     "output_type": "stream",
     "text": [
      "1\n"
     ]
    }
   ],
   "source": [
    "cout << potenza_il(10, 0) << endl;"
   ]
  },
  {
   "cell_type": "code",
   "execution_count": 4,
   "metadata": {},
   "outputs": [
    {
     "name": "stdout",
     "output_type": "stream",
     "text": [
      "-10\n"
     ]
    }
   ],
   "source": [
    "cout << potenza_il(-10, 1) << endl;"
   ]
  },
  {
   "cell_type": "code",
   "execution_count": 5,
   "metadata": {},
   "outputs": [
    {
     "name": "stdout",
     "output_type": "stream",
     "text": [
      "100000\n"
     ]
    }
   ],
   "source": [
    "cout << potenza_il(10, 5) << endl;"
   ]
  },
  {
   "cell_type": "code",
   "execution_count": 6,
   "metadata": {},
   "outputs": [
    {
     "name": "stderr",
     "output_type": "stream",
     "text": [
      "Unknown magic cell function %%html\n"
     ]
    }
   ],
   "source": [
    "%%html\n",
    "<iframe width=\"800\" height=\"500\" frameborder=\"0\" src=\"http://pythontutor.com/iframe-embed.html#code=%23include%20%3Ciostream%3E%0Ausing%20namespace%20std%3B%0A%0Adouble%20potenza%28double%20base,%20unsigned%20int%20esponente%29%20%7B%0A%20%20double%20accumulatore%20%3D%201.0%3B%0A%20%20for%20%28int%20contatore%20%3D%200%3B%20contatore%20%3C%20esponente%3B%20contatore%2B%2B%29%0A%20%20%20%20accumulatore%20%3D%20accumulatore%20*%20base%3B%0A%20%20%0A%20%20return%20accumulatore%3B%0A%7D%0A%0Aint%20main%28%29%20%7B%0A%20%20cout%20%3C%3C%20potenza%282,%205%29%20%3C%3C%20endl%3B%0A%20%20%0A%20%20return%200%3B%0A%7D&codeDivHeight=400&codeDivWidth=350&cumulative=false&curInstr=18&heapPrimitives=nevernest&origin=opt-frontend.js&py=cpp&rawInputLstJSON=%5B%5D&textReferences=false\"> </iframe>"
   ]
  },
  {
   "cell_type": "markdown",
   "metadata": {},
   "source": [
    "## Processo ricorsivo lineare\n",
    "\n",
    "L'operazione può essere definita anche come \n",
    "\n",
    "$b^e = \\begin{cases}\n",
    "  1 & \\text{se } e = 0\\\\\n",
    "  b \\cdot b^{e - 1} & \\text{altrimenti}\n",
    "\\end{cases}$\n",
    "\n",
    "in quanto\n",
    "\n",
    "$\\begin{matrix} b^e = & \\underbrace{b \\cdot b \\cdot b \\cdot \\cdots \\cdot b} & \\\\ & {e\\text{ volte}}\\end{matrix} = \\begin{matrix} b \\cdot & \\underbrace{b \\cdot b \\cdot b \\cdot \\cdots \\cdot b} & \\\\ & {e - 1 \\text{ volte}}\\end{matrix} = b \\cdot b^{e-1}$\n",
    "\n",
    "e, per soddisfare le proprietà delle potenze,\n",
    "\n",
    "$b^0 = 1$"
   ]
  },
  {
   "cell_type": "code",
   "execution_count": null,
   "metadata": {},
   "outputs": [],
   "source": [
    "double potenza_rl(double b, unsigned int e) {\n",
    "    return (e == 0) ?\n",
    "        1.0 :\n",
    "        b * potenza_rl(b, e - 1);\n",
    "}"
   ]
  },
  {
   "cell_type": "code",
   "execution_count": null,
   "metadata": {},
   "outputs": [],
   "source": [
    "cout << potenza_rl(10, 0) << endl;"
   ]
  },
  {
   "cell_type": "code",
   "execution_count": null,
   "metadata": {},
   "outputs": [],
   "source": [
    "cout << potenza_rl(-10, 1) << endl;"
   ]
  },
  {
   "cell_type": "code",
   "execution_count": null,
   "metadata": {},
   "outputs": [],
   "source": [
    "cout << potenza_rl(10, 5) << endl;"
   ]
  },
  {
   "cell_type": "code",
   "execution_count": null,
   "metadata": {},
   "outputs": [],
   "source": [
    "%%html\n",
    "<iframe width=\"800\" height=\"500\" frameborder=\"0\" src=\"http://pythontutor.com/iframe-embed.html#code=%23include%20%3Ciostream%3E%0Ausing%20namespace%20std%3B%0A%0Adouble%20potenza%28double%20base,%20unsigned%20int%20esponente%29%20%7B%0A%20%20return%20%28esponente%20%3D%3D%200%29%20%3F%0A%20%20%20%20%20%20%20%20%20%201.0%20%3A%0A%20%20%20%20%20%20%20%20%20%20base%20*%20potenza%28base,%20esponente%20-%201%29%3B%0A%7D%0A%0Aint%20main%28%29%20%7B%0A%20%20cout%20%3C%3C%20potenza%282,%205%29%20%3C%3C%20endl%3B%0A%20%20%0A%20%20return%200%3B%0A%7D&codeDivHeight=400&codeDivWidth=350&cumulative=false&curInstr=26&heapPrimitives=nevernest&origin=opt-frontend.js&py=cpp&rawInputLstJSON=%5B%5D&textReferences=false\"> </iframe>"
   ]
  },
  {
   "cell_type": "markdown",
   "metadata": {},
   "source": [
    "## Processo logaritmico con definizione ricorsiva\n",
    "\n",
    "Siamo in grado di calcolare le potenze in meno passaggi utilizzando degli elevamenti al quadrato uno dopo l'altro, in successione.\n",
    "Per esempio, invece di calcolare $b^8$ come\n",
    "$b\\cdot(b\\cdot(b\\cdot(b\\cdot(b\\cdot(b\\cdot(b\\cdot b))))))$\n",
    "possiamo calcolarlo usando tre moltiplicazioni:\n",
    "\n",
    "$$\\begin{aligned}\n",
    "      b^{2} &=& b\\cdot b\\\\\n",
    "      b^{4} &=& b^{2}\\cdot b^{2}\\\\\n",
    "      b^{8} &=& b^{4}\\cdot b^{4}\n",
    "\\end{aligned}$$\n",
    "\n",
    "Questo metodo funziona bene per gli esponenti che sono potenze del 2.\n",
    "Possiamo sfruttare i ripetuti elevamenti al quadrato anche nel calcolo degli elevamenti a qualsia potenza se utilizziamo la regola \n",
    " \n",
    "$$\\begin{array}{ll}\n",
    "    b^{e} =(b^{e/2})^{2}  & \\mbox{se } e \\mbox{ pari}\\\\\n",
    "    b^{e} =b\\cdot b^{e-1} & \\mbox{se } e \\mbox{ dispari}\\\\\n",
    "    b^{e} =1              & \\mbox{se } e = 0\n",
    "\\end{array}\n",
    "$$\n",
    " \n",
    "Si può esprimere questo metodo usando le funzioni ausiliarie quadrato e pari, con:\n"
   ]
  },
  {
   "cell_type": "code",
   "execution_count": null,
   "metadata": {},
   "outputs": [],
   "source": [
    "double quadrato(double x) {\n",
    "    return x * x;\n",
    "}"
   ]
  },
  {
   "cell_type": "code",
   "execution_count": null,
   "metadata": {},
   "outputs": [],
   "source": [
    "bool pari(unsigned int n) {\n",
    "    return (n % 2 == 0) ?\n",
    "            true :\n",
    "            false;\n",
    "}"
   ]
  },
  {
   "cell_type": "code",
   "execution_count": null,
   "metadata": {},
   "outputs": [],
   "source": [
    "double potenza_lr(double b, double e) {\n",
    "    return (e == 0) ?\n",
    "            1.0 :\n",
    "                (pari(e)) ?\n",
    "                    quadrato(potenza_lr(b, e / 2)) :\n",
    "                    b * potenza_lr(b, e - 1);\n",
    "}"
   ]
  },
  {
   "cell_type": "code",
   "execution_count": null,
   "metadata": {},
   "outputs": [],
   "source": [
    "cout << potenza_lr(10, 0) << endl;"
   ]
  },
  {
   "cell_type": "code",
   "execution_count": null,
   "metadata": {},
   "outputs": [],
   "source": [
    "cout << potenza_lr(-10, 1) << endl;"
   ]
  },
  {
   "cell_type": "code",
   "execution_count": null,
   "metadata": {},
   "outputs": [],
   "source": [
    "cout << potenza_lr(10, 5) << endl;"
   ]
  },
  {
   "cell_type": "code",
   "execution_count": null,
   "metadata": {},
   "outputs": [],
   "source": [
    "cout << potenza_lr(2, 512) << endl;"
   ]
  },
  {
   "cell_type": "code",
   "execution_count": null,
   "metadata": {},
   "outputs": [],
   "source": [
    "%%html\n",
    "<iframe width=\"800\" height=\"500\" frameborder=\"0\" src=\"http://pythontutor.com/iframe-embed.html#code=%23include%20%3Ciostream%3E%0Ausing%20namespace%20std%3B%0A%0Adouble%20quadrato%28double%20x%29%20%7B%0A%20%20%20%20return%20x%20*%20x%3B%0A%7D%0A%0Abool%20pari%28unsigned%20int%20n%29%20%7B%0A%20%20%20%20return%20%28n%20%25%202%20%3D%3D%200%29%20%3F%0A%20%20%20%20%20%20%20%20%20%20%20%20true%20%3A%0A%20%20%20%20%20%20%20%20%20%20%20%20false%3B%0A%7D%0A%0Adouble%20potenza%28double%20b,%20double%20e%29%20%7B%0A%20%20%20%20return%20%28e%20%3D%3D%200%29%20%3F%0A%20%20%20%20%20%20%20%20%20%20%20%201.0%20%3A%0A%20%20%20%20%20%20%20%20%20%20%20%20%20%20%20%20%28pari%28e%29%29%20%3F%0A%20%20%20%20%20%20%20%20%20%20%20%20%20%20%20%20%20%20%20%20quadrato%28potenza%28b,%20e%20/%202%29%29%20%3A%0A%20%20%20%20%20%20%20%20%20%20%20%20%20%20%20%20%20%20%20%20b%20*%20potenza%28b,%20e%20-%201%29%3B%0A%7D%0A%0Aint%20main%28%29%20%7B%0A%20%20cout%20%3C%3C%20potenza%282,%205%29%20%3C%3C%20endl%3B%0A%20%20%0A%20%20return%200%3B%0A%7D&codeDivHeight=400&codeDivWidth=350&cumulative=false&curInstr=0&heapPrimitives=nevernest&origin=opt-frontend.js&py=cpp&rawInputLstJSON=%5B%5D&textReferences=false\"> </iframe>"
   ]
  }
 ],
 "metadata": {
  "kernelspec": {
   "display_name": "C++17",
   "language": "C++17",
   "name": "xcpp17"
  },
  "language_info": {
   "codemirror_mode": "text/x-c++src",
   "file_extension": ".cpp",
   "mimetype": "text/x-c++src",
   "name": "c++",
   "version": "17"
  }
 },
 "nbformat": 4,
 "nbformat_minor": 4
}
