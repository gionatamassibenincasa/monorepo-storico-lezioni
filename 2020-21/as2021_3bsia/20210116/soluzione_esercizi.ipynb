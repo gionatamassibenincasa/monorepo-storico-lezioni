{
 "cells": [
  {
   "cell_type": "markdown",
   "metadata": {},
   "source": [
    "## Soluzione degli esercizi assegnati per il 16 gennaio"
   ]
  },
  {
   "cell_type": "code",
   "execution_count": 4,
   "metadata": {},
   "outputs": [],
   "source": [
    "#include <iostream>\n",
    "using namespace std;"
   ]
  },
  {
   "cell_type": "code",
   "execution_count": 3,
   "metadata": {},
   "outputs": [],
   "source": [
    "double quadrato(double x) {\n",
    "    return x * x;\n",
    "}\n",
    "\n",
    "cout << quadrato(4) << endl;\n",
    "cout << quadrato(-4) << endl;\n",
    "cout << quadrato(0) << endl;"
   ]
  },
  {
   "cell_type": "code",
   "execution_count": 13,
   "metadata": {},
   "outputs": [
    {
     "name": "stdout",
     "output_type": "stream",
     "text": [
      "64\n",
      "-64\n",
      "0\n"
     ]
    }
   ],
   "source": [
    "double cubo(double x) {\n",
    "    return x * quadrato(x);\n",
    "}\n",
    "\n",
    "cout << cubo(4) << endl;\n",
    "cout << cubo(-4) << endl;\n",
    "cout << cubo(0) << endl;"
   ]
  },
  {
   "cell_type": "code",
   "execution_count": 14,
   "metadata": {},
   "outputs": [
    {
     "name": "stdout",
     "output_type": "stream",
     "text": [
      "1.5\n",
      "0\n",
      "6\n"
     ]
    }
   ],
   "source": [
    "double media(double x, double y) {\n",
    "    return (x + y) / 2;\n",
    "}\n",
    "\n",
    "cout << media(1, 2) << endl;\n",
    "cout << media(-1, 1) << endl;\n",
    "cout << media(5, 7) << endl;"
   ]
  },
  {
   "cell_type": "code",
   "execution_count": 21,
   "metadata": {},
   "outputs": [
    {
     "name": "stdout",
     "output_type": "stream",
     "text": [
      "9\n",
      "9\n",
      "1.001e+06\n"
     ]
    }
   ],
   "source": [
    "double somma_di_cubi(double x, double y) {\n",
    "    return cubo(x) + cubo(y);\n",
    "}\n",
    "\n",
    "cout << somma_di_cubi(1, 2) << endl;\n",
    "cout << somma_di_cubi(2, 1) << endl;\n",
    "cout << somma_di_cubi(10, 100) << endl;"
   ]
  },
  {
   "cell_type": "code",
   "execution_count": 23,
   "metadata": {},
   "outputs": [
    {
     "name": "stdout",
     "output_type": "stream",
     "text": [
      "5\n",
      "5\n",
      "0\n"
     ]
    }
   ],
   "source": [
    "double valore_assoluto(double x) {\n",
    "    return (x >= 0) ?\n",
    "            x :\n",
    "            -x;\n",
    "}\n",
    "\n",
    "cout << valore_assoluto(5) << endl;\n",
    "cout << valore_assoluto(-5) << endl;\n",
    "cout << valore_assoluto(0) << endl;"
   ]
  },
  {
   "cell_type": "code",
   "execution_count": 24,
   "metadata": {},
   "outputs": [
    {
     "name": "stdout",
     "output_type": "stream",
     "text": [
      "5\n",
      "5\n",
      "0\n"
     ]
    }
   ],
   "source": [
    "double valore_assoluto(double x) {\n",
    "    if (x >= 0)\n",
    "        return x;\n",
    "    else\n",
    "        return -x;\n",
    "}\n",
    "\n",
    "cout << valore_assoluto(5) << endl;\n",
    "cout << valore_assoluto(-5) << endl;\n",
    "cout << valore_assoluto(0) << endl;"
   ]
  }
 ],
 "metadata": {
  "kernelspec": {
   "display_name": "C++17",
   "language": "C++17",
   "name": "xcpp17"
  },
  "language_info": {
   "codemirror_mode": "text/x-c++src",
   "file_extension": ".cpp",
   "mimetype": "text/x-c++src",
   "name": "c++",
   "version": "17"
  }
 },
 "nbformat": 4,
 "nbformat_minor": 4
}
