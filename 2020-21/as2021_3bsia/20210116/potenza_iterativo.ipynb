{
 "cells": [
  {
   "cell_type": "markdown",
   "metadata": {},
   "source": [
    "# Elevamento a potenza\n",
    "\n",
    "Consideriamo $b^e$ come un'operazione in cui $b$ è un numero reale qualsiasi ed $e$ è un numero naturale.\n",
    "\n",
    "L'operazione può essere definita come \n",
    "\n",
    "$\\begin{matrix} b^e = & \\underbrace{b \\cdot b \\cdot b \\cdot \\cdots \\cdot b} & \\\\ & {e\\text{ volte}}\\end{matrix}$\n",
    "\n",
    "In C++ il prototipo è:\n",
    "\n",
    "```c++\n",
    "double potenza(double b, unsigned int e);\n",
    "```\n"
   ]
  },
  {
   "cell_type": "code",
   "execution_count": 3,
   "metadata": {},
   "outputs": [],
   "source": [
    "#include <iostream>\n",
    "using namespace std;"
   ]
  },
  {
   "cell_type": "code",
   "execution_count": 6,
   "metadata": {},
   "outputs": [
    {
     "name": "stdout",
     "output_type": "stream",
     "text": [
      "0\n",
      "1\n",
      "100\n",
      "-1000\n"
     ]
    }
   ],
   "source": [
    "double potenza(double b, unsigned int e) {\n",
    "    double accumulatore = 1.0;\n",
    "    for (int contatore = 0; contatore < e; contatore++) {\n",
    "        // Ripeti per _e_ volte\n",
    "        accumulatore *= b; //< accumulatore = accumulatore * b;\n",
    "    }\n",
    "    return accumulatore;\n",
    "}\n",
    "\n",
    "cout << potenza(0, 1) << endl;\n",
    "cout << potenza(1, 10) << endl;\n",
    "cout << potenza(-10, 2) << endl;\n",
    "cout << potenza(-10, 3) << endl;"
   ]
  }
 ],
 "metadata": {
  "kernelspec": {
   "display_name": "C++17",
   "language": "C++17",
   "name": "xcpp17"
  },
  "language_info": {
   "codemirror_mode": "text/x-c++src",
   "file_extension": ".cpp",
   "mimetype": "text/x-c++src",
   "name": "c++",
   "version": "17"
  }
 },
 "nbformat": 4,
 "nbformat_minor": 4
}
